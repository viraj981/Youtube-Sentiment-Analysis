{
 "cells": [
  {
   "cell_type": "code",
   "execution_count": 1,
   "metadata": {
    "id": "LDezQB0dHAX7"
   },
   "outputs": [],
   "source": [
    "import numpy as np\n",
    "import pandas as pd\n",
    "import os\n",
    "import seaborn as sns\n",
    "\n",
    "import re \n",
    "import nltk \n",
    "\n",
    "from nltk import sent_tokenize, word_tokenize\n",
    "from sklearn.metrics import f1_score, accuracy_score, precision_score, recall_score, make_scorer\n",
    "\n",
    "from sklearn.model_selection import train_test_split\n",
    "from sklearn.metrics import f1_score\n",
    "from time import time\n",
    "\n",
    "# from sklearn import svm\n",
    "import xgboost as xgb\n",
    "from sklearn.naive_bayes import MultinomialNB\n",
    "from sklearn.tree import DecisionTreeClassifier\n",
    "from sklearn.svm import LinearSVC\n",
    "from sklearn.ensemble import AdaBoostClassifier, RandomForestClassifier, BaggingClassifier\n",
    "from sklearn.linear_model import LogisticRegression, SGDClassifier\n",
    "from sklearn.neighbors import KNeighborsClassifier\n",
    "from sklearn.feature_extraction.text import CountVectorizer\n"
   ]
  },
  {
   "cell_type": "code",
   "execution_count": 2,
   "metadata": {
    "colab": {
     "base_uri": "https://localhost:8080/"
    },
    "id": "8jshMn_tIoud",
    "outputId": "979605b4-e16e-40a4-9b66-e4abbfb250e1"
   },
   "outputs": [
    {
     "name": "stdout",
     "output_type": "stream",
     "text": [
      "                                       COMMENT_ID                AUTHOR  \\\n",
      "0     LZQPQhLyRh80UYxNuaDWhIGQYNQ96IuCg-AYWqNPjpU             Julius NM   \n",
      "1             z13jhp0bxqncu512g22wvzkasxmvvzjaz04       ElNino Melendez   \n",
      "2             z13fwbwp1oujthgqj04chlngpvzmtt3r3dw                GsMega   \n",
      "3             z13lfzdo5vmdi1cm123te5uz2mqig1brz04        ferleck ferles   \n",
      "4             z12avveb4xqiirsix04chxviiljryduwxg0           BeBe Burkey   \n",
      "...                                           ...                   ...   \n",
      "1152  _2viQ_Qnc6_RKHVetk9kLzx8ZC62_J7y73FWFSBTe8Q           ThirdDegr3e   \n",
      "1153  _2viQ_Qnc68TufyXKiTwky80ewSPbhRiD5XFHrJH9lg      Ysobel Schofield   \n",
      "1154  _2viQ_Qnc6-pY-1yR6K2FhmC5i48-WuNx5CumlHLDAI  Sabina Pearson-Smith   \n",
      "1155  _2viQ_Qnc6_k_n_Bse9zVhJP8tJReZpo8uM2uZfnzDs         jeffrey jules   \n",
      "1156  _2viQ_Qnc6_yBt8UGMWyg3vh0PulTqcqyQtdE7d4Fl0        Aishlin Maciel   \n",
      "\n",
      "                            DATE  \\\n",
      "0            2013-11-07T06:20:48   \n",
      "1            2013-11-09T08:28:43   \n",
      "2            2013-11-10T16:05:38   \n",
      "3            2013-11-27T21:39:24   \n",
      "4            2013-11-28T16:30:13   \n",
      "...                          ...   \n",
      "1152  2013-07-13T20:47:40.793000   \n",
      "1153  2013-07-13T20:17:25.181000   \n",
      "1154  2013-07-13T13:14:30.021000   \n",
      "1155  2013-07-13T12:09:31.188000   \n",
      "1156  2013-07-13T11:17:52.308000   \n",
      "\n",
      "                                                CONTENT  CLASS  \n",
      "0     Huh, anyway check out this you[tube] channel: ...      1  \n",
      "1      me shaking my sexy ass on my channel enjoy ^_^ ﻿      1  \n",
      "2               watch?v=vtaRGgvGtWQ   Check this out .﻿      1  \n",
      "3                             Subscribe to my channel ﻿      1  \n",
      "4     and u should.d check my channel and tell me wh...      1  \n",
      "...                                                 ...    ...  \n",
      "1152  **CHECK OUT MY NEW MIXTAPE**** **CHECK OUT MY ...      1  \n",
      "1153                                Waka waka she rules      0  \n",
      "1154  I love this song for two reasons: 1.it is abou...      0  \n",
      "1155                                                wow      0  \n",
      "1156                            Shakira u are so wiredo      0  \n",
      "\n",
      "[1157 rows x 5 columns]\n"
     ]
    }
   ],
   "source": [
    "import pandas as pd\n",
    "import io\n",
    "  \n",
    "df = pd.read_csv(r'C:\\Users\\Acer\\Desktop\\NLP project/train.csv')\n",
    "print(df)"
   ]
  },
  {
   "cell_type": "markdown",
   "metadata": {
    "id": "ImjU92r2OgX-"
   },
   "source": [
    "Preview of CLASS in the dataset"
   ]
  },
  {
   "cell_type": "code",
   "execution_count": 3,
   "metadata": {
    "colab": {
     "base_uri": "https://localhost:8080/",
     "height": 260
    },
    "id": "Ew5DqLBhGqYA",
    "outputId": "e1ba5dd0-5112-4ed7-86e7-4583cc9b941a"
   },
   "outputs": [
    {
     "data": {
      "image/png": "[encoded data removed]",
      "text/plain": [
       "<Figure size 288x576 with 1 Axes>"
      ]
     },
     "metadata": {},
     "output_type": "display_data"
    }
   ],
   "source": [
    "from matplotlib import pyplot as plt\n",
    "\n",
    "plt.style.use('fivethirtyeight')\n",
    "\n",
    "tot = df.shape[0]\n",
    "num_toxic = df[df.CLASS == 0].shape[0]\n",
    "\n",
    "slices = [num_toxic/tot,(tot - num_toxic)/tot]\n",
    "labeling = ['Non-Advertise Content','Advertise Content']\n",
    "explode = [0.2,0]\n",
    "plt.figure(figsize=(4,8))\n",
    "plt.pie(slices,explode=explode,shadow=True,autopct='%1.1f%%',labels=labeling,wedgeprops={'edgecolor':'black'})\n",
    "plt.tight_layout()\n",
    "plt.show()"
   ]
  },
  {
   "cell_type": "code",
   "execution_count": 4,
   "metadata": {
    "id": "kQeopRXbJwnk"
   },
   "outputs": [],
   "source": [
    "df['length_train'] = df['CONTENT'].str.len()"
   ]
  },
  {
   "cell_type": "code",
   "execution_count": 5,
   "metadata": {
    "id": "hxu-MnhlKEXn"
   },
   "outputs": [],
   "source": [
    "combi = df.append(df,ignore_index=True)"
   ]
  },
  {
   "cell_type": "code",
   "execution_count": 6,
   "metadata": {
    "id": "6JrTAt3TKGnN"
   },
   "outputs": [],
   "source": [
    "def remove_pattern(input_txt,pattern):\n",
    "  r= re.findall(pattern,input_txt)\n",
    "  for i in r:\n",
    "    input_txt = re.sub(i,'',input_txt)\n",
    "  return input_txt"
   ]
  },
  {
   "cell_type": "code",
   "execution_count": 7,
   "metadata": {
    "id": "lemKe-DnKImw"
   },
   "outputs": [
    {
     "name": "stderr",
     "output_type": "stream",
     "text": [
      "<ipython-input-7-644dfdc20ca6>:4: FutureWarning: The default value of regex will change from True to False in a future version.\n",
      "  combi['tidy_content'] = combi['tidy_content'].str.replace(\"[^a-zA-z#]\",\" \")\n"
     ]
    }
   ],
   "source": [
    "#removes @user\n",
    "combi['tidy_content'] = np.vectorize(remove_pattern)(combi['CONTENT'],\"@[\\w]*\")\n",
    "#removes extra letters \n",
    "combi['tidy_content'] = combi['tidy_content'].str.replace(\"[^a-zA-z#]\",\" \")\n",
    "#removes all those words with size less than 3 \n",
    "combi['tidy_content']= combi['tidy_content'].apply(lambda x : ' '.join([w for w in x.split() if len(w)>3])) "
   ]
  },
  {
   "cell_type": "code",
   "execution_count": 8,
   "metadata": {
    "colab": {
     "base_uri": "https://localhost:8080/",
     "height": 606
    },
    "id": "q92-RknGKP6y",
    "outputId": "ed309c08-6723-42a7-81a8-caf35970facf"
   },
   "outputs": [
    {
     "data": {
      "text/html": [
       "<div>\n",
       "<style scoped>\n",
       "    .dataframe tbody tr th:only-of-type {\n",
       "        vertical-align: middle;\n",
       "    }\n",
       "\n",
       "    .dataframe tbody tr th {\n",
       "        vertical-align: top;\n",
       "    }\n",
       "\n",
       "    .dataframe thead th {\n",
       "        text-align: right;\n",
       "    }\n",
       "</style>\n",
       "<table border=\"1\" class=\"dataframe\">\n",
       "  <thead>\n",
       "    <tr style=\"text-align: right;\">\n",
       "      <th></th>\n",
       "      <th>COMMENT_ID</th>\n",
       "      <th>AUTHOR</th>\n",
       "      <th>DATE</th>\n",
       "      <th>CONTENT</th>\n",
       "      <th>CLASS</th>\n",
       "      <th>length_train</th>\n",
       "      <th>tidy_content</th>\n",
       "    </tr>\n",
       "  </thead>\n",
       "  <tbody>\n",
       "    <tr>\n",
       "      <th>287</th>\n",
       "      <td>z13cyrkatpfnixkis04cinqqhmbuvhspvqk0k</td>\n",
       "      <td>Pettrus Ortega</td>\n",
       "      <td>2014-09-18T11:35:49</td>\n",
       "      <td>THIS IS A COMPETITION TO MEET MY IDOLS, IT WOU...</td>\n",
       "      <td>1</td>\n",
       "      <td>136</td>\n",
       "      <td>THIS COMPETITION MEET IDOLS WOULD MEAN MUCH GU...</td>\n",
       "    </tr>\n",
       "    <tr>\n",
       "      <th>299</th>\n",
       "      <td>z13byjoiuqvhctxc423ahhxafrizwhfto</td>\n",
       "      <td>tonya parker</td>\n",
       "      <td>2014-09-21T23:01:03</td>\n",
       "      <td>This is the best of the best video in world!!!...</td>\n",
       "      <td>0</td>\n",
       "      <td>73</td>\n",
       "      <td>This best best video world</td>\n",
       "    </tr>\n",
       "    <tr>\n",
       "      <th>429</th>\n",
       "      <td>z13oe5si1ouygx2dv22vcrb5qouetpjz404</td>\n",
       "      <td>Brian Brai</td>\n",
       "      <td>2015-05-28T08:57:27.399000</td>\n",
       "      <td>Omg﻿</td>\n",
       "      <td>0</td>\n",
       "      <td>4</td>\n",
       "      <td></td>\n",
       "    </tr>\n",
       "    <tr>\n",
       "      <th>575</th>\n",
       "      <td>z12gctfjtpq4ybcdx23sshorsxrsx3ave</td>\n",
       "      <td>Victor Gamer</td>\n",
       "      <td>2015-04-13T02:00:20.152000</td>\n",
       "      <td>View 851.247.920&lt;br /&gt;&lt;br /&gt; Best youtube Vide...</td>\n",
       "      <td>1</td>\n",
       "      <td>400</td>\n",
       "      <td>View Best youtube Video Subscribe Channel plea...</td>\n",
       "    </tr>\n",
       "    <tr>\n",
       "      <th>1417</th>\n",
       "      <td>z12wujphdvrxcbksz23lc3j5xsqadn0cz</td>\n",
       "      <td>Made2Falter</td>\n",
       "      <td>2014-09-09T23:55:30</td>\n",
       "      <td>Check out our vids, our songs are awesome! And...</td>\n",
       "      <td>1</td>\n",
       "      <td>67</td>\n",
       "      <td>Check vids songs awesome that guarantee</td>\n",
       "    </tr>\n",
       "    <tr>\n",
       "      <th>39</th>\n",
       "      <td>z13zz3cjwmztcni0p23ug3vb0pasfvzqc04</td>\n",
       "      <td>Dymetex</td>\n",
       "      <td>2014-01-21T09:03:36</td>\n",
       "      <td>OMG this oldspice spraytan party commercial om...</td>\n",
       "      <td>0</td>\n",
       "      <td>110</td>\n",
       "      <td>this oldspice spraytan party commercial sittin...</td>\n",
       "    </tr>\n",
       "    <tr>\n",
       "      <th>414</th>\n",
       "      <td>z13ihroixyvmzvl2h22kclthlnmmxtggl04</td>\n",
       "      <td>Destiny Cable</td>\n",
       "      <td>2015-06-05T03:33:16</td>\n",
       "      <td>PLEASE VOTE FOR ME FOR THE WET SEAL MODEL 2015...</td>\n",
       "      <td>1</td>\n",
       "      <td>155</td>\n",
       "      <td>PLEASE VOTE SEAL MODEL CONTEST INSTAGRAM USERN...</td>\n",
       "    </tr>\n",
       "    <tr>\n",
       "      <th>1941</th>\n",
       "      <td>z121i1eqppzph3eod04cixfgwknydnfzq3k</td>\n",
       "      <td>railn j sander</td>\n",
       "      <td>2015-05-26T05:32:15.041000</td>\n",
       "      <td>I guss this song is one of my worst fears in l...</td>\n",
       "      <td>0</td>\n",
       "      <td>116</td>\n",
       "      <td>guss this song worst fears life with someone a...</td>\n",
       "    </tr>\n",
       "    <tr>\n",
       "      <th>816</th>\n",
       "      <td>LneaDw26bFtnSSLHdnzuBcuiWsrkKqOQgsyMmAcSnw4</td>\n",
       "      <td>Louis Bryant</td>\n",
       "      <td>NaN</td>\n",
       "      <td>You guys should check out this EXTRAORDINARY w...</td>\n",
       "      <td>1</td>\n",
       "      <td>351</td>\n",
       "      <td>guys should check this EXTRAORDINARY website c...</td>\n",
       "    </tr>\n",
       "    <tr>\n",
       "      <th>1161</th>\n",
       "      <td>z12avveb4xqiirsix04chxviiljryduwxg0</td>\n",
       "      <td>BeBe Burkey</td>\n",
       "      <td>2013-11-28T16:30:13</td>\n",
       "      <td>and u should.d check my channel and tell me wh...</td>\n",
       "      <td>1</td>\n",
       "      <td>67</td>\n",
       "      <td>should check channel tell what should next</td>\n",
       "    </tr>\n",
       "  </tbody>\n",
       "</table>\n",
       "</div>"
      ],
      "text/plain": [
       "                                       COMMENT_ID          AUTHOR  \\\n",
       "287         z13cyrkatpfnixkis04cinqqhmbuvhspvqk0k  Pettrus Ortega   \n",
       "299             z13byjoiuqvhctxc423ahhxafrizwhfto    tonya parker   \n",
       "429           z13oe5si1ouygx2dv22vcrb5qouetpjz404      Brian Brai   \n",
       "575             z12gctfjtpq4ybcdx23sshorsxrsx3ave    Victor Gamer   \n",
       "1417            z12wujphdvrxcbksz23lc3j5xsqadn0cz     Made2Falter   \n",
       "39            z13zz3cjwmztcni0p23ug3vb0pasfvzqc04         Dymetex   \n",
       "414           z13ihroixyvmzvl2h22kclthlnmmxtggl04   Destiny Cable   \n",
       "1941          z121i1eqppzph3eod04cixfgwknydnfzq3k  railn j sander   \n",
       "816   LneaDw26bFtnSSLHdnzuBcuiWsrkKqOQgsyMmAcSnw4    Louis Bryant   \n",
       "1161          z12avveb4xqiirsix04chxviiljryduwxg0     BeBe Burkey   \n",
       "\n",
       "                            DATE  \\\n",
       "287          2014-09-18T11:35:49   \n",
       "299          2014-09-21T23:01:03   \n",
       "429   2015-05-28T08:57:27.399000   \n",
       "575   2015-04-13T02:00:20.152000   \n",
       "1417         2014-09-09T23:55:30   \n",
       "39           2014-01-21T09:03:36   \n",
       "414          2015-06-05T03:33:16   \n",
       "1941  2015-05-26T05:32:15.041000   \n",
       "816                          NaN   \n",
       "1161         2013-11-28T16:30:13   \n",
       "\n",
       "                                                CONTENT  CLASS  length_train  \\\n",
       "287   THIS IS A COMPETITION TO MEET MY IDOLS, IT WOU...      1           136   \n",
       "299   This is the best of the best video in world!!!...      0            73   \n",
       "429                                                Omg﻿      0             4   \n",
       "575   View 851.247.920<br /><br /> Best youtube Vide...      1           400   \n",
       "1417  Check out our vids, our songs are awesome! And...      1            67   \n",
       "39    OMG this oldspice spraytan party commercial om...      0           110   \n",
       "414   PLEASE VOTE FOR ME FOR THE WET SEAL MODEL 2015...      1           155   \n",
       "1941  I guss this song is one of my worst fears in l...      0           116   \n",
       "816   You guys should check out this EXTRAORDINARY w...      1           351   \n",
       "1161  and u should.d check my channel and tell me wh...      1            67   \n",
       "\n",
       "                                           tidy_content  \n",
       "287   THIS COMPETITION MEET IDOLS WOULD MEAN MUCH GU...  \n",
       "299                          This best best video world  \n",
       "429                                                      \n",
       "575   View Best youtube Video Subscribe Channel plea...  \n",
       "1417            Check vids songs awesome that guarantee  \n",
       "39    this oldspice spraytan party commercial sittin...  \n",
       "414   PLEASE VOTE SEAL MODEL CONTEST INSTAGRAM USERN...  \n",
       "1941  guss this song worst fears life with someone a...  \n",
       "816   guys should check this EXTRAORDINARY website c...  \n",
       "1161         should check channel tell what should next  "
      ]
     },
     "execution_count": 8,
     "metadata": {},
     "output_type": "execute_result"
    }
   ],
   "source": [
    "combi.sample(n=10)"
   ]
  },
  {
   "cell_type": "code",
   "execution_count": 9,
   "metadata": {
    "id": "3-ulnftyKTT4"
   },
   "outputs": [],
   "source": [
    "tokenized_tweet = combi['tidy_content'].apply(lambda x: x.split()) #creates a list"
   ]
  },
  {
   "cell_type": "code",
   "execution_count": 10,
   "metadata": {
    "colab": {
     "base_uri": "https://localhost:8080/"
    },
    "id": "XvrWi0r4Kgrm",
    "outputId": "f7e19ae4-55a7-4678-f5d8-772e91bd1c80"
   },
   "outputs": [
    {
     "data": {
      "text/plain": [
       "0    [anyway, check, this, you[tube], channel, koby...\n",
       "1                      [shaking, sexy, channel, enjoy]\n",
       "2                    [watch, vtaRGgvGtWQ, Check, this]\n",
       "3                                 [Subscribe, channel]\n",
       "4    [should, check, channel, tell, what, should, n...\n",
       "Name: tidy_content, dtype: object"
      ]
     },
     "execution_count": 10,
     "metadata": {},
     "output_type": "execute_result"
    }
   ],
   "source": [
    "tokenized_tweet.head()"
   ]
  },
  {
   "cell_type": "code",
   "execution_count": 11,
   "metadata": {
    "colab": {
     "base_uri": "https://localhost:8080/"
    },
    "id": "bwFUqhjyKjx9",
    "outputId": "677075f1-dce1-419c-8fdc-83ae05249ab0"
   },
   "outputs": [
    {
     "name": "stderr",
     "output_type": "stream",
     "text": [
      "[nltk_data] Downloading package wordnet to\n",
      "[nltk_data]     C:\\Users\\Acer\\AppData\\Roaming\\nltk_data...\n",
      "[nltk_data]   Package wordnet is already up-to-date!\n"
     ]
    }
   ],
   "source": [
    "nltk.download('wordnet')\n",
    "lemmatizer = nltk.stem.WordNetLemmatizer()\n",
    "tokenized_tweet = tokenized_tweet.apply(lambda x: [lemmatizer.lemmatize(i) for i in x])"
   ]
  },
  {
   "cell_type": "code",
   "execution_count": 12,
   "metadata": {
    "id": "yC8DHJItKmME"
   },
   "outputs": [],
   "source": [
    "for i in range(len(tokenized_tweet)):\n",
    "  tokenized_tweet[i] = ' '.join(tokenized_tweet[i])\n",
    "combi['tidy_tweet'] = tokenized_tweet"
   ]
  },
  {
   "cell_type": "code",
   "execution_count": 13,
   "metadata": {
    "colab": {
     "base_uri": "https://localhost:8080/",
     "height": 345
    },
    "id": "vnrJzgkxKpF5",
    "outputId": "aef4b3d1-6a51-4608-bf8c-da04691b299e"
   },
   "outputs": [
    {
     "data": {
      "text/html": [
       "<div>\n",
       "<style scoped>\n",
       "    .dataframe tbody tr th:only-of-type {\n",
       "        vertical-align: middle;\n",
       "    }\n",
       "\n",
       "    .dataframe tbody tr th {\n",
       "        vertical-align: top;\n",
       "    }\n",
       "\n",
       "    .dataframe thead th {\n",
       "        text-align: right;\n",
       "    }\n",
       "</style>\n",
       "<table border=\"1\" class=\"dataframe\">\n",
       "  <thead>\n",
       "    <tr style=\"text-align: right;\">\n",
       "      <th></th>\n",
       "      <th>COMMENT_ID</th>\n",
       "      <th>AUTHOR</th>\n",
       "      <th>DATE</th>\n",
       "      <th>CONTENT</th>\n",
       "      <th>CLASS</th>\n",
       "      <th>length_train</th>\n",
       "      <th>tidy_content</th>\n",
       "      <th>tidy_tweet</th>\n",
       "    </tr>\n",
       "  </thead>\n",
       "  <tbody>\n",
       "    <tr>\n",
       "      <th>0</th>\n",
       "      <td>LZQPQhLyRh80UYxNuaDWhIGQYNQ96IuCg-AYWqNPjpU</td>\n",
       "      <td>Julius NM</td>\n",
       "      <td>2013-11-07T06:20:48</td>\n",
       "      <td>Huh, anyway check out this you[tube] channel: ...</td>\n",
       "      <td>1</td>\n",
       "      <td>56</td>\n",
       "      <td>anyway check this you[tube] channel kobyoshi</td>\n",
       "      <td>anyway check this you[tube] channel kobyoshi</td>\n",
       "    </tr>\n",
       "    <tr>\n",
       "      <th>1</th>\n",
       "      <td>z13jhp0bxqncu512g22wvzkasxmvvzjaz04</td>\n",
       "      <td>ElNino Melendez</td>\n",
       "      <td>2013-11-09T08:28:43</td>\n",
       "      <td>me shaking my sexy ass on my channel enjoy ^_^ ﻿</td>\n",
       "      <td>1</td>\n",
       "      <td>48</td>\n",
       "      <td>shaking sexy channel enjoy</td>\n",
       "      <td>shaking sexy channel enjoy</td>\n",
       "    </tr>\n",
       "    <tr>\n",
       "      <th>2</th>\n",
       "      <td>z13fwbwp1oujthgqj04chlngpvzmtt3r3dw</td>\n",
       "      <td>GsMega</td>\n",
       "      <td>2013-11-10T16:05:38</td>\n",
       "      <td>watch?v=vtaRGgvGtWQ   Check this out .﻿</td>\n",
       "      <td>1</td>\n",
       "      <td>39</td>\n",
       "      <td>watch vtaRGgvGtWQ Check this</td>\n",
       "      <td>watch vtaRGgvGtWQ Check this</td>\n",
       "    </tr>\n",
       "    <tr>\n",
       "      <th>3</th>\n",
       "      <td>z13lfzdo5vmdi1cm123te5uz2mqig1brz04</td>\n",
       "      <td>ferleck ferles</td>\n",
       "      <td>2013-11-27T21:39:24</td>\n",
       "      <td>Subscribe to my channel ﻿</td>\n",
       "      <td>1</td>\n",
       "      <td>25</td>\n",
       "      <td>Subscribe channel</td>\n",
       "      <td>Subscribe channel</td>\n",
       "    </tr>\n",
       "    <tr>\n",
       "      <th>4</th>\n",
       "      <td>z12avveb4xqiirsix04chxviiljryduwxg0</td>\n",
       "      <td>BeBe Burkey</td>\n",
       "      <td>2013-11-28T16:30:13</td>\n",
       "      <td>and u should.d check my channel and tell me wh...</td>\n",
       "      <td>1</td>\n",
       "      <td>67</td>\n",
       "      <td>should check channel tell what should next</td>\n",
       "      <td>should check channel tell what should next</td>\n",
       "    </tr>\n",
       "  </tbody>\n",
       "</table>\n",
       "</div>"
      ],
      "text/plain": [
       "                                    COMMENT_ID           AUTHOR  \\\n",
       "0  LZQPQhLyRh80UYxNuaDWhIGQYNQ96IuCg-AYWqNPjpU        Julius NM   \n",
       "1          z13jhp0bxqncu512g22wvzkasxmvvzjaz04  ElNino Melendez   \n",
       "2          z13fwbwp1oujthgqj04chlngpvzmtt3r3dw           GsMega   \n",
       "3          z13lfzdo5vmdi1cm123te5uz2mqig1brz04   ferleck ferles   \n",
       "4          z12avveb4xqiirsix04chxviiljryduwxg0      BeBe Burkey   \n",
       "\n",
       "                  DATE                                            CONTENT  \\\n",
       "0  2013-11-07T06:20:48  Huh, anyway check out this you[tube] channel: ...   \n",
       "1  2013-11-09T08:28:43   me shaking my sexy ass on my channel enjoy ^_^ ﻿   \n",
       "2  2013-11-10T16:05:38            watch?v=vtaRGgvGtWQ   Check this out .﻿   \n",
       "3  2013-11-27T21:39:24                          Subscribe to my channel ﻿   \n",
       "4  2013-11-28T16:30:13  and u should.d check my channel and tell me wh...   \n",
       "\n",
       "   CLASS  length_train                                  tidy_content  \\\n",
       "0      1            56  anyway check this you[tube] channel kobyoshi   \n",
       "1      1            48                    shaking sexy channel enjoy   \n",
       "2      1            39                  watch vtaRGgvGtWQ Check this   \n",
       "3      1            25                             Subscribe channel   \n",
       "4      1            67    should check channel tell what should next   \n",
       "\n",
       "                                     tidy_tweet  \n",
       "0  anyway check this you[tube] channel kobyoshi  \n",
       "1                    shaking sexy channel enjoy  \n",
       "2                  watch vtaRGgvGtWQ Check this  \n",
       "3                             Subscribe channel  \n",
       "4    should check channel tell what should next  "
      ]
     },
     "execution_count": 13,
     "metadata": {},
     "output_type": "execute_result"
    }
   ],
   "source": [
    "combi.head()"
   ]
  },
  {
   "cell_type": "code",
   "execution_count": 14,
   "metadata": {
    "colab": {
     "base_uri": "https://localhost:8080/"
    },
    "id": "Ul7cAxycKthI",
    "outputId": "b8ae37b4-92fd-4d15-d219-5b3a27547a38"
   },
   "outputs": [
    {
     "name": "stdout",
     "output_type": "stream",
     "text": [
      "Number of rows in the total set: (1157, 6)\n",
      "Number of rows in the training set: (867,)\n",
      "Number of rows in the test set: (290,)\n"
     ]
    }
   ],
   "source": [
    "# splitting data \n",
    "\n",
    "X_train, X_test, y_train, y_test = train_test_split(df['CONTENT'], \n",
    "                                                    df['CLASS'], \n",
    "                                                    random_state=42)  \n",
    "           \n",
    "print('Number of rows in the total set: {}'.format(df.shape))\n",
    "print('Number of rows in the training set: {}'.format(X_train.shape))\n",
    "print('Number of rows in the test set: {}'.format(X_test.shape))"
   ]
  },
  {
   "cell_type": "code",
   "execution_count": 15,
   "metadata": {
    "colab": {
     "base_uri": "https://localhost:8080/"
    },
    "id": "usjH05k5Lj-7",
    "outputId": "f2f7b313-55b0-47e9-ad4a-22e0d1891a1b"
   },
   "outputs": [
    {
     "name": "stdout",
     "output_type": "stream",
     "text": [
      "(867,)\n",
      "(867, 2393)\n"
     ]
    }
   ],
   "source": [
    "# Instantiate the CountVectorizer method\n",
    "count_vector = CountVectorizer(stop_words = 'english', lowercase = True)\n",
    "\n",
    "# Fit the training data and then return the matrix\n",
    "training_data = count_vector.fit_transform(X_train)\n",
    "print(X_train.shape)\n",
    "print(training_data.shape)\n",
    "\n",
    "# Transform testing data and return the matrix. Note we are not fitting the testing data into the CountVectorizer()\n",
    "testing_data = count_vector.transform(X_test)\n",
    "\n",
    "# making pickle file\n",
    "import pickle\n",
    "filename = 'vector_vocabulary.pkl'\n",
    "pickle.dump(count_vector.vocabulary_, open(filename, 'wb'))"
   ]
  },
  {
   "cell_type": "code",
   "execution_count": 16,
   "metadata": {
    "id": "Iz4pF3_MLpp0"
   },
   "outputs": [],
   "source": [
    "def pipeline(learner_list, X_train, y_train, X_test, y_test): \n",
    "    '''\n",
    "    inputs:\n",
    "       - learner: the learning algorithm to be trained and predicted on\n",
    "       - X_train: features training set\n",
    "       - y_train: income training set\n",
    "       - X_test: features testing set\n",
    "       - y_test: income testing set\n",
    "    '''\n",
    "    \n",
    "    # Get length of Training Data:\n",
    "    size = len(y_train)\n",
    "    \n",
    "    results = {}\n",
    "    final_results = []\n",
    "    \n",
    "    import pickle\n",
    "    for learner in learner_list:\n",
    "        \n",
    "        print(learner)\n",
    "        # Store the learner name:\n",
    "        results['Algorithm'] = learner.__class__.__name__\n",
    "\n",
    "        # Fit the learner:\n",
    "        start = time() # Get start time\n",
    "        print(\"Training {}\".format(learner.__class__.__name__))\n",
    "        learner = learner.fit(X_train, y_train)\n",
    "        end = time() # Get end time\n",
    "\n",
    "        # making pickle file here for my various classifier\n",
    "\n",
    "        filename = learner.__class__.__name__+\".pkl\"\n",
    "        pickle.dump(learner, open(filename, 'wb'))\n",
    "\n",
    "\n",
    "        # Store the training time\n",
    "        results['Training Time'] = end - start\n",
    "\n",
    "        start = time() # Get start time\n",
    "        predictions_test = learner.predict(X_test)\n",
    "        predictions_train = learner.predict(X_train)\n",
    "        end = time() # Get end time\n",
    "\n",
    "        # Store the prediction time\n",
    "        results['Prediction Time'] = end - start\n",
    "\n",
    "        # Compute the Accuracy on Test Set\n",
    "        results['Accuracy: Test'] = accuracy_score(y_test, predictions_test)\n",
    "\n",
    "        # Compute the Accuracy on Training Set\n",
    "        results['Accuracy: Train'] = accuracy_score(y_train, predictions_train)\n",
    "\n",
    "        # Compute the F1 Score on Test Set\n",
    "        results['F1 Score: Test'] = f1_score(y_test, predictions_test)\n",
    "\n",
    "        # Compute the F1 Score on Training Set\n",
    "        results['F1 Score: Train'] = f1_score(y_train, predictions_train)\n",
    "\n",
    "        # Compute the Precision on Test Set\n",
    "        results['Precision: Test'] = precision_score(y_test, predictions_test)\n",
    "\n",
    "        # Compute the Precision on Training Set\n",
    "        results['Precision: Train'] = precision_score(y_train, predictions_train)\n",
    "\n",
    "        # Compute the Recall on Test Set\n",
    "        results['Recall: Test'] = recall_score(y_test, predictions_test)\n",
    "\n",
    "        # Compute the Recall on Training Set\n",
    "        results['Recall: Train'] = recall_score(y_train, predictions_train)\n",
    "\n",
    "        # Success\n",
    "        print(\"Training {} finished in {:.2f} sec\".format(learner.__class__.__name__, results['Training Time']))\n",
    "        print('----------------------------------------------------')\n",
    "        \n",
    "        final_results.append(results.copy())\n",
    "    # Return a dataframe of the results\n",
    "    return final_results"
   ]
  },
  {
   "cell_type": "code",
   "execution_count": 17,
   "metadata": {
    "id": "v39ZPTKNLpxo"
   },
   "outputs": [],
   "source": [
    "# make a list of models\n",
    "models = [LinearSVC(), \n",
    "          RandomForestClassifier(),\n",
    "         LogisticRegression(), KNeighborsClassifier()]"
   ]
  },
  {
   "cell_type": "code",
   "execution_count": 18,
   "metadata": {
    "colab": {
     "base_uri": "https://localhost:8080/"
    },
    "id": "ruM_PZ5SMIRD",
    "outputId": "b21dc14b-3af9-4de0-f567-8a2f23290ec3"
   },
   "outputs": [
    {
     "name": "stdout",
     "output_type": "stream",
     "text": [
      "LinearSVC()\n",
      "Training LinearSVC\n",
      "Training LinearSVC finished in 0.00 sec\n",
      "----------------------------------------------------\n",
      "RandomForestClassifier()\n",
      "Training RandomForestClassifier\n",
      "Training RandomForestClassifier finished in 0.31 sec\n",
      "----------------------------------------------------\n",
      "LogisticRegression()\n",
      "Training LogisticRegression\n",
      "Training LogisticRegression finished in 0.03 sec\n",
      "----------------------------------------------------\n",
      "KNeighborsClassifier()\n",
      "Training KNeighborsClassifier\n",
      "Training KNeighborsClassifier finished in 0.00 sec\n",
      "----------------------------------------------------\n"
     ]
    }
   ],
   "source": [
    "re = pipeline(models, training_data, y_train, testing_data, y_test)\n",
    "results = pd.DataFrame(re)\n",
    "results = results.reindex(columns = ['Algorithm', 'Accuracy: Test', 'Precision: Test', 'Recall: Test', 'F1 Score: Test', 'Prediction Time',\n",
    "                          'Accuracy: Train', 'Precision: Train', 'Recall: Train', 'F1 Score: Train', 'Training Time'])"
   ]
  },
  {
   "cell_type": "code",
   "execution_count": 19,
   "metadata": {
    "id": "De-VNpFLML9W"
   },
   "outputs": [],
   "source": [
    "results = results.reindex(columns = ['Algorithm', 'Accuracy: Test', 'Precision: Test', 'Recall: Test', 'F1 Score: Test', 'Prediction Time',\n",
    "                          'Accuracy: Train', 'Precision: Train', 'Recall: Train', 'F1 Score: Train', 'Training Time'])\n",
    "\n",
    "results.sort_values(by = 'F1 Score: Test', inplace = True, ascending = False)"
   ]
  },
  {
   "cell_type": "code",
   "execution_count": 20,
   "metadata": {
    "colab": {
     "base_uri": "https://localhost:8080/",
     "height": 192
    },
    "id": "5Plgx86BMPfJ",
    "outputId": "8a35716e-e323-4d48-f54e-dbd663ba5d67"
   },
   "outputs": [
    {
     "data": {
      "text/html": [
       "<div>\n",
       "<style scoped>\n",
       "    .dataframe tbody tr th:only-of-type {\n",
       "        vertical-align: middle;\n",
       "    }\n",
       "\n",
       "    .dataframe tbody tr th {\n",
       "        vertical-align: top;\n",
       "    }\n",
       "\n",
       "    .dataframe thead th {\n",
       "        text-align: right;\n",
       "    }\n",
       "</style>\n",
       "<table border=\"1\" class=\"dataframe\">\n",
       "  <thead>\n",
       "    <tr style=\"text-align: right;\">\n",
       "      <th></th>\n",
       "      <th>Algorithm</th>\n",
       "      <th>Accuracy: Test</th>\n",
       "      <th>Precision: Test</th>\n",
       "      <th>Recall: Test</th>\n",
       "      <th>F1 Score: Test</th>\n",
       "      <th>Prediction Time</th>\n",
       "      <th>Accuracy: Train</th>\n",
       "      <th>Precision: Train</th>\n",
       "      <th>Recall: Train</th>\n",
       "      <th>F1 Score: Train</th>\n",
       "      <th>Training Time</th>\n",
       "    </tr>\n",
       "  </thead>\n",
       "  <tbody>\n",
       "    <tr>\n",
       "      <th>0</th>\n",
       "      <td>LinearSVC</td>\n",
       "      <td>0.951724</td>\n",
       "      <td>0.972028</td>\n",
       "      <td>0.932886</td>\n",
       "      <td>0.952055</td>\n",
       "      <td>0.000000</td>\n",
       "      <td>0.997693</td>\n",
       "      <td>1.000000</td>\n",
       "      <td>0.995423</td>\n",
       "      <td>0.997706</td>\n",
       "      <td>0.004022</td>\n",
       "    </tr>\n",
       "    <tr>\n",
       "      <th>1</th>\n",
       "      <td>RandomForestClassifier</td>\n",
       "      <td>0.927586</td>\n",
       "      <td>0.957143</td>\n",
       "      <td>0.899329</td>\n",
       "      <td>0.927336</td>\n",
       "      <td>0.052904</td>\n",
       "      <td>0.998847</td>\n",
       "      <td>1.000000</td>\n",
       "      <td>0.997712</td>\n",
       "      <td>0.998855</td>\n",
       "      <td>0.311135</td>\n",
       "    </tr>\n",
       "    <tr>\n",
       "      <th>2</th>\n",
       "      <td>LogisticRegression</td>\n",
       "      <td>0.924138</td>\n",
       "      <td>0.970370</td>\n",
       "      <td>0.879195</td>\n",
       "      <td>0.922535</td>\n",
       "      <td>0.000998</td>\n",
       "      <td>0.986159</td>\n",
       "      <td>1.000000</td>\n",
       "      <td>0.972540</td>\n",
       "      <td>0.986079</td>\n",
       "      <td>0.028881</td>\n",
       "    </tr>\n",
       "    <tr>\n",
       "      <th>3</th>\n",
       "      <td>KNeighborsClassifier</td>\n",
       "      <td>0.817241</td>\n",
       "      <td>0.970588</td>\n",
       "      <td>0.664430</td>\n",
       "      <td>0.788845</td>\n",
       "      <td>0.068779</td>\n",
       "      <td>0.848904</td>\n",
       "      <td>0.972222</td>\n",
       "      <td>0.720824</td>\n",
       "      <td>0.827858</td>\n",
       "      <td>0.001029</td>\n",
       "    </tr>\n",
       "  </tbody>\n",
       "</table>\n",
       "</div>"
      ],
      "text/plain": [
       "                Algorithm  Accuracy: Test  Precision: Test  Recall: Test  \\\n",
       "0               LinearSVC        0.951724         0.972028      0.932886   \n",
       "1  RandomForestClassifier        0.927586         0.957143      0.899329   \n",
       "2      LogisticRegression        0.924138         0.970370      0.879195   \n",
       "3    KNeighborsClassifier        0.817241         0.970588      0.664430   \n",
       "\n",
       "   F1 Score: Test  Prediction Time  Accuracy: Train  Precision: Train  \\\n",
       "0        0.952055         0.000000         0.997693          1.000000   \n",
       "1        0.927336         0.052904         0.998847          1.000000   \n",
       "2        0.922535         0.000998         0.986159          1.000000   \n",
       "3        0.788845         0.068779         0.848904          0.972222   \n",
       "\n",
       "   Recall: Train  F1 Score: Train  Training Time  \n",
       "0       0.995423         0.997706       0.004022  \n",
       "1       0.997712         0.998855       0.311135  \n",
       "2       0.972540         0.986079       0.028881  \n",
       "3       0.720824         0.827858       0.001029  "
      ]
     },
     "execution_count": 20,
     "metadata": {},
     "output_type": "execute_result"
    }
   ],
   "source": [
    "results.reset_index(drop = True)"
   ]
  },
  {
   "cell_type": "code",
   "execution_count": 21,
   "metadata": {
    "colab": {
     "base_uri": "https://localhost:8080/",
     "height": 129
    },
    "id": "11G1GKBHMuiV",
    "outputId": "48db1482-6a5d-4f59-8362-baa1c5f0afc3"
   },
   "outputs": [
    {
     "data": {
      "text/html": [
       "<div>\n",
       "<style scoped>\n",
       "    .dataframe tbody tr th:only-of-type {\n",
       "        vertical-align: middle;\n",
       "    }\n",
       "\n",
       "    .dataframe tbody tr th {\n",
       "        vertical-align: top;\n",
       "    }\n",
       "\n",
       "    .dataframe thead th {\n",
       "        text-align: right;\n",
       "    }\n",
       "</style>\n",
       "<table border=\"1\" class=\"dataframe\">\n",
       "  <thead>\n",
       "    <tr style=\"text-align: right;\">\n",
       "      <th></th>\n",
       "      <th>Accuracy: Test</th>\n",
       "      <th>Precision: Test</th>\n",
       "      <th>Recall: Test</th>\n",
       "      <th>F1 Score: Test</th>\n",
       "      <th>Prediction Time</th>\n",
       "      <th>Accuracy: Train</th>\n",
       "      <th>Precision: Train</th>\n",
       "      <th>Recall: Train</th>\n",
       "      <th>F1 Score: Train</th>\n",
       "      <th>Training Time</th>\n",
       "    </tr>\n",
       "  </thead>\n",
       "  <tbody>\n",
       "    <tr>\n",
       "      <th>min</th>\n",
       "      <td>0.817241</td>\n",
       "      <td>0.957143</td>\n",
       "      <td>0.664430</td>\n",
       "      <td>0.788845</td>\n",
       "      <td>0.000000</td>\n",
       "      <td>0.848904</td>\n",
       "      <td>0.972222</td>\n",
       "      <td>0.720824</td>\n",
       "      <td>0.827858</td>\n",
       "      <td>0.001029</td>\n",
       "    </tr>\n",
       "    <tr>\n",
       "      <th>max</th>\n",
       "      <td>0.951724</td>\n",
       "      <td>0.972028</td>\n",
       "      <td>0.932886</td>\n",
       "      <td>0.952055</td>\n",
       "      <td>0.068779</td>\n",
       "      <td>0.998847</td>\n",
       "      <td>1.000000</td>\n",
       "      <td>0.997712</td>\n",
       "      <td>0.998855</td>\n",
       "      <td>0.311135</td>\n",
       "    </tr>\n",
       "  </tbody>\n",
       "</table>\n",
       "</div>"
      ],
      "text/plain": [
       "     Accuracy: Test  Precision: Test  Recall: Test  F1 Score: Test  \\\n",
       "min        0.817241         0.957143      0.664430        0.788845   \n",
       "max        0.951724         0.972028      0.932886        0.952055   \n",
       "\n",
       "     Prediction Time  Accuracy: Train  Precision: Train  Recall: Train  \\\n",
       "min         0.000000         0.848904          0.972222       0.720824   \n",
       "max         0.068779         0.998847          1.000000       0.997712   \n",
       "\n",
       "     F1 Score: Train  Training Time  \n",
       "min         0.827858       0.001029  \n",
       "max         0.998855       0.311135  "
      ]
     },
     "execution_count": 21,
     "metadata": {},
     "output_type": "execute_result"
    }
   ],
   "source": [
    "results.describe().loc[['min', 'max'], :]"
   ]
  },
  {
   "cell_type": "code",
   "execution_count": 22,
   "metadata": {
    "id": "kZIr3bf4JM_n"
   },
   "outputs": [],
   "source": [
    "best_acc = results[results['Accuracy: Test'] == results['Accuracy: Test'].max()]\n",
    "best_f1 = results[results['F1 Score: Test'] == results['F1 Score: Test'].max()]\n",
    "best_precision = results[results['Precision: Test'] == results['Precision: Test'].max()]\n",
    "best_recall = results[results['Recall: Test'] == results['Recall: Test'].max()]"
   ]
  },
  {
   "cell_type": "code",
   "execution_count": 23,
   "metadata": {
    "colab": {
     "base_uri": "https://localhost:8080/",
     "height": 308
    },
    "id": "3rke-NVlJfJw",
    "outputId": "c154ff5e-5a62-4ed0-cf26-f9af032ab619"
   },
   "outputs": [
    {
     "name": "stdout",
     "output_type": "stream",
     "text": [
      "click to zoom\n"
     ]
    },
    {
     "data": {
      "image/png": "[encoded data removed]",
      "text/plain": [
       "<Figure size 720x360 with 1 Axes>"
      ]
     },
     "metadata": {},
     "output_type": "display_data"
    }
   ],
   "source": [
    "sns.set_style('darkgrid')\n",
    "plt.figure(figsize = (10, 5))\n",
    "\n",
    "barWidth = 0.2\n",
    " \n",
    "# set height of bar\n",
    "bars1 = results['Accuracy: Test']\n",
    "bars2 = results['F1 Score: Test']\n",
    "bars3 = results['Precision: Test']\n",
    "bars4 = results['Recall: Test']\n",
    "\n",
    " \n",
    "# Set position of bar on X axis\n",
    "r1 = np.arange(len(bars1))\n",
    "r2 = [x + barWidth for x in r1]\n",
    "r3 = [x + barWidth for x in r2]\n",
    "r4 = [x + barWidth for x in r3]\n",
    "\n",
    " \n",
    "# Make the plot\n",
    "pal = sns.color_palette()\n",
    "plt.bar(r1, bars1, color= pal[0], width=barWidth, edgecolor='white', label='Test Accuracy')\n",
    "plt.bar(r2, bars2, color= pal[1], width=barWidth, edgecolor='white', label='F1 Score')\n",
    "plt.bar(r3, bars3, color= pal[2], width=barWidth, edgecolor='white', label='Precision')\n",
    "plt.bar(r4, bars4, color= pal[4], width=barWidth, edgecolor='white', label='Recall')\n",
    "\n",
    " \n",
    "# Add xticks on the middle of the group bars\n",
    "plt.xlabel('Algorithm', fontweight='bold', fontsize = 15)\n",
    "plt.ylabel('Score', fontweight = 'bold', fontsize = 15)\n",
    "plt.xticks([r + barWidth for r in range(len(bars1))], results['Algorithm'], rotation = 15, fontsize = 12)\n",
    " \n",
    "# Create legend & Show graphic\n",
    "plt.legend(fontsize = 12)\n",
    "\n",
    "textstr = '\\n'.join(['Best Accuracy: {:.3f} - {}'.format(best_acc['Accuracy: Test'].values[0], best_acc['Algorithm'].values[0]), \n",
    "                     'Best F1 Score: {:.3f} - {}'.format(best_f1['F1 Score: Test'].values[0], best_f1['Algorithm'].values[0]),\n",
    "                   'Best Precision: {:.3f} - {}'.format(best_precision['Precision: Test'].values[0], best_precision['Algorithm'].values[0]), \n",
    "                    'Best Recall: {:.3f} - {}'.format(best_recall['Recall: Test'].values[0], best_recall['Algorithm'].values[0])])\n",
    "props = dict(boxstyle='round', facecolor='lightgrey', alpha=0.5)\n",
    "\n",
    "#place a text box\n",
    "plt.text(9.2, 1, textstr, fontsize=12,\n",
    "        verticalalignment='top', bbox=props)\n",
    "\n",
    "plt.title('Classification Summary of Algorithms', fontweight = 'bold', fontsize = 17);\n",
    "print(\"click to zoom\")"
   ]
  },
  {
   "cell_type": "code",
   "execution_count": 24,
   "metadata": {
    "colab": {
     "base_uri": "https://localhost:8080/"
    },
    "id": "BK4FnwXvMx9Q",
    "outputId": "4e40817a-119b-476d-d91a-c404bda19110"
   },
   "outputs": [
    {
     "name": "stdout",
     "output_type": "stream",
     "text": [
      "  (0, 1031)\t1\n"
     ]
    }
   ],
   "source": [
    "# I am testing my classifier and pre-processing stages\n",
    "\n",
    "data = [\"hello\"]\n",
    "count_vector = CountVectorizer(stop_words = 'english', lowercase = True,vocabulary=pickle.load(open(\"vector_vocabulary.pkl\", \"rb\")))\n",
    "data=count_vector.transform(data)\n",
    "print(data)"
   ]
  },
  {
   "cell_type": "code",
   "execution_count": 25,
   "metadata": {
    "colab": {
     "base_uri": "https://localhost:8080/"
    },
    "id": "C8Q5AytNNcxO",
    "outputId": "dca74404-1647-492e-94c5-66ae4a2b9cf8"
   },
   "outputs": [
    {
     "name": "stdout",
     "output_type": "stream",
     "text": [
      "(1, 2393)\n",
      "[0]\n"
     ]
    }
   ],
   "source": [
    "import pickle\n",
    "trained_model=pickle.load(open(\"LinearSVC.pkl\", 'rb'))\n",
    "\n",
    "# print(testing_data)\n",
    "print(trained_model.coef_.shape)\n",
    "\n",
    "# print(X_test[0])\n",
    "# print(testing_data[0][0])\n",
    "\n",
    "print(trained_model.predict(data))"
   ]
  },
  {
   "cell_type": "code",
   "execution_count": 26,
   "metadata": {
    "id": "HXmSGPAuKv6B"
   },
   "outputs": [],
   "source": [
    "test = pd.read_csv('test.csv')"
   ]
  },
  {
   "cell_type": "code",
   "execution_count": 27,
   "metadata": {
    "colab": {
     "base_uri": "https://localhost:8080/",
     "height": 423
    },
    "id": "PctIikOAZDUk",
    "outputId": "d66b7c92-8889-445b-eb08-69bbe36d9eb7"
   },
   "outputs": [
    {
     "data": {
      "text/html": [
       "<div>\n",
       "<style scoped>\n",
       "    .dataframe tbody tr th:only-of-type {\n",
       "        vertical-align: middle;\n",
       "    }\n",
       "\n",
       "    .dataframe tbody tr th {\n",
       "        vertical-align: top;\n",
       "    }\n",
       "\n",
       "    .dataframe thead th {\n",
       "        text-align: right;\n",
       "    }\n",
       "</style>\n",
       "<table border=\"1\" class=\"dataframe\">\n",
       "  <thead>\n",
       "    <tr style=\"text-align: right;\">\n",
       "      <th></th>\n",
       "      <th>ID</th>\n",
       "      <th>COMMENT_ID</th>\n",
       "      <th>AUTHOR</th>\n",
       "      <th>DATE</th>\n",
       "      <th>CONTENT</th>\n",
       "    </tr>\n",
       "  </thead>\n",
       "  <tbody>\n",
       "    <tr>\n",
       "      <th>0</th>\n",
       "      <td>0</td>\n",
       "      <td>LZQPQhLyRh_C2cTtd9MvFRJedxydaVW-2sNg5Diuo4A</td>\n",
       "      <td>adam riyati</td>\n",
       "      <td>2013-11-07T12:37:15</td>\n",
       "      <td>Hey guys check out my new channel and our firs...</td>\n",
       "    </tr>\n",
       "    <tr>\n",
       "      <th>1</th>\n",
       "      <td>1</td>\n",
       "      <td>LZQPQhLyRh9MSZYnf8djyk0gEF9BHDPYrrK-qCczIY8</td>\n",
       "      <td>Evgeny Murashkin</td>\n",
       "      <td>2013-11-08T17:34:21</td>\n",
       "      <td>just for test I have to say murdev.com</td>\n",
       "    </tr>\n",
       "    <tr>\n",
       "      <th>2</th>\n",
       "      <td>2</td>\n",
       "      <td>LZQPQhLyRh9-wNRtlZDM90f1k0BrdVdJyN_YsaSwfxc</td>\n",
       "      <td>Jason Haddad</td>\n",
       "      <td>2013-11-26T02:55:11</td>\n",
       "      <td>Hey, check out my new website!! This site is a...</td>\n",
       "    </tr>\n",
       "    <tr>\n",
       "      <th>3</th>\n",
       "      <td>3</td>\n",
       "      <td>z122wfnzgt30fhubn04cdn3xfx2mxzngsl40k</td>\n",
       "      <td>Bob Kanowski</td>\n",
       "      <td>2013-11-28T12:33:27</td>\n",
       "      <td>i turned it on mute as soon is i came on i jus...</td>\n",
       "    </tr>\n",
       "    <tr>\n",
       "      <th>4</th>\n",
       "      <td>4</td>\n",
       "      <td>z13ttt1jcraqexk2o234ghbgzxymz1zzi04</td>\n",
       "      <td>Cony</td>\n",
       "      <td>2013-11-28T16:01:47</td>\n",
       "      <td>You should check my channel for Funny VIDEOS!!﻿</td>\n",
       "    </tr>\n",
       "    <tr>\n",
       "      <th>...</th>\n",
       "      <td>...</td>\n",
       "      <td>...</td>\n",
       "      <td>...</td>\n",
       "      <td>...</td>\n",
       "      <td>...</td>\n",
       "    </tr>\n",
       "    <tr>\n",
       "      <th>794</th>\n",
       "      <td>794</td>\n",
       "      <td>_2viQ_Qnc6-jk58CPwBnqfbM6oByJH5oPvCtKecLQyo</td>\n",
       "      <td>Shadrach Grentz</td>\n",
       "      <td>2013-07-14T03:11:20.243000</td>\n",
       "      <td>Hey Music Fans I really appreciate all of you ...</td>\n",
       "    </tr>\n",
       "    <tr>\n",
       "      <th>795</th>\n",
       "      <td>795</td>\n",
       "      <td>_2viQ_Qnc689m-WiwOwvrQU7LvkLAgspnfXL8ovE0ME</td>\n",
       "      <td>TheHotChocolate</td>\n",
       "      <td>2013-07-13T18:26:37.017000</td>\n",
       "      <td>she is sooooo beautiful!</td>\n",
       "    </tr>\n",
       "    <tr>\n",
       "      <th>796</th>\n",
       "      <td>796</td>\n",
       "      <td>_2viQ_Qnc6_1Hq9MGlefkBIszt9rYD3S_CozADvMhQ4</td>\n",
       "      <td>Dinova Sharon</td>\n",
       "      <td>2013-07-13T14:44:00.700000</td>\n",
       "      <td>well done shakira</td>\n",
       "    </tr>\n",
       "    <tr>\n",
       "      <th>797</th>\n",
       "      <td>797</td>\n",
       "      <td>_2viQ_Qnc6-bMSjqyL1NKj57ROicCSJV5SwTrw-RFFA</td>\n",
       "      <td>Katie Mettam</td>\n",
       "      <td>2013-07-13T13:27:39.441000</td>\n",
       "      <td>I love this song because we sing it at Camp al...</td>\n",
       "    </tr>\n",
       "    <tr>\n",
       "      <th>798</th>\n",
       "      <td>798</td>\n",
       "      <td>_2viQ_Qnc685RPw1aSa1tfrIuHXRvAQ2rPT9R06KTqA</td>\n",
       "      <td>Latin Bosch</td>\n",
       "      <td>2013-07-12T22:33:27.916000</td>\n",
       "      <td>Shakira is the best dancer</td>\n",
       "    </tr>\n",
       "  </tbody>\n",
       "</table>\n",
       "<p>799 rows × 5 columns</p>\n",
       "</div>"
      ],
      "text/plain": [
       "      ID                                   COMMENT_ID            AUTHOR  \\\n",
       "0      0  LZQPQhLyRh_C2cTtd9MvFRJedxydaVW-2sNg5Diuo4A       adam riyati   \n",
       "1      1  LZQPQhLyRh9MSZYnf8djyk0gEF9BHDPYrrK-qCczIY8  Evgeny Murashkin   \n",
       "2      2  LZQPQhLyRh9-wNRtlZDM90f1k0BrdVdJyN_YsaSwfxc      Jason Haddad   \n",
       "3      3        z122wfnzgt30fhubn04cdn3xfx2mxzngsl40k      Bob Kanowski   \n",
       "4      4          z13ttt1jcraqexk2o234ghbgzxymz1zzi04              Cony   \n",
       "..   ...                                          ...               ...   \n",
       "794  794  _2viQ_Qnc6-jk58CPwBnqfbM6oByJH5oPvCtKecLQyo   Shadrach Grentz   \n",
       "795  795  _2viQ_Qnc689m-WiwOwvrQU7LvkLAgspnfXL8ovE0ME   TheHotChocolate   \n",
       "796  796  _2viQ_Qnc6_1Hq9MGlefkBIszt9rYD3S_CozADvMhQ4     Dinova Sharon   \n",
       "797  797  _2viQ_Qnc6-bMSjqyL1NKj57ROicCSJV5SwTrw-RFFA      Katie Mettam   \n",
       "798  798  _2viQ_Qnc685RPw1aSa1tfrIuHXRvAQ2rPT9R06KTqA       Latin Bosch   \n",
       "\n",
       "                           DATE  \\\n",
       "0           2013-11-07T12:37:15   \n",
       "1           2013-11-08T17:34:21   \n",
       "2           2013-11-26T02:55:11   \n",
       "3           2013-11-28T12:33:27   \n",
       "4           2013-11-28T16:01:47   \n",
       "..                          ...   \n",
       "794  2013-07-14T03:11:20.243000   \n",
       "795  2013-07-13T18:26:37.017000   \n",
       "796  2013-07-13T14:44:00.700000   \n",
       "797  2013-07-13T13:27:39.441000   \n",
       "798  2013-07-12T22:33:27.916000   \n",
       "\n",
       "                                               CONTENT  \n",
       "0    Hey guys check out my new channel and our firs...  \n",
       "1               just for test I have to say murdev.com  \n",
       "2    Hey, check out my new website!! This site is a...  \n",
       "3    i turned it on mute as soon is i came on i jus...  \n",
       "4      You should check my channel for Funny VIDEOS!!﻿  \n",
       "..                                                 ...  \n",
       "794  Hey Music Fans I really appreciate all of you ...  \n",
       "795                           she is sooooo beautiful!  \n",
       "796                                  well done shakira  \n",
       "797  I love this song because we sing it at Camp al...  \n",
       "798                         Shakira is the best dancer  \n",
       "\n",
       "[799 rows x 5 columns]"
      ]
     },
     "execution_count": 27,
     "metadata": {},
     "output_type": "execute_result"
    }
   ],
   "source": [
    "test\n"
   ]
  },
  {
   "cell_type": "code",
   "execution_count": 28,
   "metadata": {
    "id": "z19rwsesZEMx"
   },
   "outputs": [],
   "source": [
    "test1 = test[['ID', 'CONTENT']]"
   ]
  },
  {
   "cell_type": "code",
   "execution_count": 29,
   "metadata": {
    "colab": {
     "base_uri": "https://localhost:8080/",
     "height": 423
    },
    "id": "6x4_7kMcZnTk",
    "outputId": "301a7c3e-f674-49b0-d195-8f47ee749a6b"
   },
   "outputs": [
    {
     "data": {
      "text/html": [
       "<div>\n",
       "<style scoped>\n",
       "    .dataframe tbody tr th:only-of-type {\n",
       "        vertical-align: middle;\n",
       "    }\n",
       "\n",
       "    .dataframe tbody tr th {\n",
       "        vertical-align: top;\n",
       "    }\n",
       "\n",
       "    .dataframe thead th {\n",
       "        text-align: right;\n",
       "    }\n",
       "</style>\n",
       "<table border=\"1\" class=\"dataframe\">\n",
       "  <thead>\n",
       "    <tr style=\"text-align: right;\">\n",
       "      <th></th>\n",
       "      <th>ID</th>\n",
       "      <th>CONTENT</th>\n",
       "    </tr>\n",
       "  </thead>\n",
       "  <tbody>\n",
       "    <tr>\n",
       "      <th>0</th>\n",
       "      <td>0</td>\n",
       "      <td>Hey guys check out my new channel and our firs...</td>\n",
       "    </tr>\n",
       "    <tr>\n",
       "      <th>1</th>\n",
       "      <td>1</td>\n",
       "      <td>just for test I have to say murdev.com</td>\n",
       "    </tr>\n",
       "    <tr>\n",
       "      <th>2</th>\n",
       "      <td>2</td>\n",
       "      <td>Hey, check out my new website!! This site is a...</td>\n",
       "    </tr>\n",
       "    <tr>\n",
       "      <th>3</th>\n",
       "      <td>3</td>\n",
       "      <td>i turned it on mute as soon is i came on i jus...</td>\n",
       "    </tr>\n",
       "    <tr>\n",
       "      <th>4</th>\n",
       "      <td>4</td>\n",
       "      <td>You should check my channel for Funny VIDEOS!!﻿</td>\n",
       "    </tr>\n",
       "    <tr>\n",
       "      <th>...</th>\n",
       "      <td>...</td>\n",
       "      <td>...</td>\n",
       "    </tr>\n",
       "    <tr>\n",
       "      <th>794</th>\n",
       "      <td>794</td>\n",
       "      <td>Hey Music Fans I really appreciate all of you ...</td>\n",
       "    </tr>\n",
       "    <tr>\n",
       "      <th>795</th>\n",
       "      <td>795</td>\n",
       "      <td>she is sooooo beautiful!</td>\n",
       "    </tr>\n",
       "    <tr>\n",
       "      <th>796</th>\n",
       "      <td>796</td>\n",
       "      <td>well done shakira</td>\n",
       "    </tr>\n",
       "    <tr>\n",
       "      <th>797</th>\n",
       "      <td>797</td>\n",
       "      <td>I love this song because we sing it at Camp al...</td>\n",
       "    </tr>\n",
       "    <tr>\n",
       "      <th>798</th>\n",
       "      <td>798</td>\n",
       "      <td>Shakira is the best dancer</td>\n",
       "    </tr>\n",
       "  </tbody>\n",
       "</table>\n",
       "<p>799 rows × 2 columns</p>\n",
       "</div>"
      ],
      "text/plain": [
       "      ID                                            CONTENT\n",
       "0      0  Hey guys check out my new channel and our firs...\n",
       "1      1             just for test I have to say murdev.com\n",
       "2      2  Hey, check out my new website!! This site is a...\n",
       "3      3  i turned it on mute as soon is i came on i jus...\n",
       "4      4    You should check my channel for Funny VIDEOS!!﻿\n",
       "..   ...                                                ...\n",
       "794  794  Hey Music Fans I really appreciate all of you ...\n",
       "795  795                           she is sooooo beautiful!\n",
       "796  796                                  well done shakira\n",
       "797  797  I love this song because we sing it at Camp al...\n",
       "798  798                         Shakira is the best dancer\n",
       "\n",
       "[799 rows x 2 columns]"
      ]
     },
     "execution_count": 29,
     "metadata": {},
     "output_type": "execute_result"
    }
   ],
   "source": [
    "test1"
   ]
  },
  {
   "cell_type": "code",
   "execution_count": 30,
   "metadata": {
    "id": "6bpVuFUeZq1A"
   },
   "outputs": [],
   "source": [
    "op= []\n",
    "#value = combi['CONTENT'].apply(lambda x:x.split())\n",
    "for i in test1['CONTENT']:\n",
    "  \n",
    "  data = [i]\n",
    "  count_vector = CountVectorizer(stop_words = 'english', lowercase = True,vocabulary=pickle.load(open(\"vector_vocabulary.pkl\", \"rb\")))\n",
    "  data=count_vector.transform(data)\n",
    "  trained_model=pickle.load(open(\"LinearSVC.pkl\", 'rb'))\n",
    "  #print(trained_model.predict(data))\n",
    "  op.append(trained_model.predict(data).flatten().tolist()[0])\n",
    "  #value['output'] = trained_model.predict(data)\n",
    "\n",
    "\n",
    " \n",
    " \n"
   ]
  },
  {
   "cell_type": "code",
   "execution_count": 31,
   "metadata": {
    "colab": {
     "base_uri": "https://localhost:8080/"
    },
    "id": "jZEF2x5_mx1A",
    "outputId": "13bdec23-638d-4704-d6ea-a1bec5444c01"
   },
   "outputs": [
    {
     "name": "stderr",
     "output_type": "stream",
     "text": [
      "<ipython-input-31-a577e08fe0d2>:1: SettingWithCopyWarning: \n",
      "A value is trying to be set on a copy of a slice from a DataFrame.\n",
      "Try using .loc[row_indexer,col_indexer] = value instead\n",
      "\n",
      "See the caveats in the documentation: https://pandas.pydata.org/pandas-docs/stable/user_guide/indexing.html#returning-a-view-versus-a-copy\n",
      "  test1['CLASS'] = op\n"
     ]
    }
   ],
   "source": [
    "test1['CLASS'] = op"
   ]
  },
  {
   "cell_type": "code",
   "execution_count": 32,
   "metadata": {
    "colab": {
     "base_uri": "https://localhost:8080/",
     "height": 423
    },
    "id": "44Fdg0KBnN10",
    "outputId": "851dab93-aec6-42fd-faac-90b9e57fada4"
   },
   "outputs": [
    {
     "data": {
      "text/html": [
       "<div>\n",
       "<style scoped>\n",
       "    .dataframe tbody tr th:only-of-type {\n",
       "        vertical-align: middle;\n",
       "    }\n",
       "\n",
       "    .dataframe tbody tr th {\n",
       "        vertical-align: top;\n",
       "    }\n",
       "\n",
       "    .dataframe thead th {\n",
       "        text-align: right;\n",
       "    }\n",
       "</style>\n",
       "<table border=\"1\" class=\"dataframe\">\n",
       "  <thead>\n",
       "    <tr style=\"text-align: right;\">\n",
       "      <th></th>\n",
       "      <th>ID</th>\n",
       "      <th>CONTENT</th>\n",
       "      <th>CLASS</th>\n",
       "    </tr>\n",
       "  </thead>\n",
       "  <tbody>\n",
       "    <tr>\n",
       "      <th>0</th>\n",
       "      <td>0</td>\n",
       "      <td>Hey guys check out my new channel and our firs...</td>\n",
       "      <td>1</td>\n",
       "    </tr>\n",
       "    <tr>\n",
       "      <th>1</th>\n",
       "      <td>1</td>\n",
       "      <td>just for test I have to say murdev.com</td>\n",
       "      <td>1</td>\n",
       "    </tr>\n",
       "    <tr>\n",
       "      <th>2</th>\n",
       "      <td>2</td>\n",
       "      <td>Hey, check out my new website!! This site is a...</td>\n",
       "      <td>1</td>\n",
       "    </tr>\n",
       "    <tr>\n",
       "      <th>3</th>\n",
       "      <td>3</td>\n",
       "      <td>i turned it on mute as soon is i came on i jus...</td>\n",
       "      <td>0</td>\n",
       "    </tr>\n",
       "    <tr>\n",
       "      <th>4</th>\n",
       "      <td>4</td>\n",
       "      <td>You should check my channel for Funny VIDEOS!!﻿</td>\n",
       "      <td>1</td>\n",
       "    </tr>\n",
       "    <tr>\n",
       "      <th>...</th>\n",
       "      <td>...</td>\n",
       "      <td>...</td>\n",
       "      <td>...</td>\n",
       "    </tr>\n",
       "    <tr>\n",
       "      <th>794</th>\n",
       "      <td>794</td>\n",
       "      <td>Hey Music Fans I really appreciate all of you ...</td>\n",
       "      <td>1</td>\n",
       "    </tr>\n",
       "    <tr>\n",
       "      <th>795</th>\n",
       "      <td>795</td>\n",
       "      <td>she is sooooo beautiful!</td>\n",
       "      <td>0</td>\n",
       "    </tr>\n",
       "    <tr>\n",
       "      <th>796</th>\n",
       "      <td>796</td>\n",
       "      <td>well done shakira</td>\n",
       "      <td>0</td>\n",
       "    </tr>\n",
       "    <tr>\n",
       "      <th>797</th>\n",
       "      <td>797</td>\n",
       "      <td>I love this song because we sing it at Camp al...</td>\n",
       "      <td>0</td>\n",
       "    </tr>\n",
       "    <tr>\n",
       "      <th>798</th>\n",
       "      <td>798</td>\n",
       "      <td>Shakira is the best dancer</td>\n",
       "      <td>0</td>\n",
       "    </tr>\n",
       "  </tbody>\n",
       "</table>\n",
       "<p>799 rows × 3 columns</p>\n",
       "</div>"
      ],
      "text/plain": [
       "      ID                                            CONTENT  CLASS\n",
       "0      0  Hey guys check out my new channel and our firs...      1\n",
       "1      1             just for test I have to say murdev.com      1\n",
       "2      2  Hey, check out my new website!! This site is a...      1\n",
       "3      3  i turned it on mute as soon is i came on i jus...      0\n",
       "4      4    You should check my channel for Funny VIDEOS!!﻿      1\n",
       "..   ...                                                ...    ...\n",
       "794  794  Hey Music Fans I really appreciate all of you ...      1\n",
       "795  795                           she is sooooo beautiful!      0\n",
       "796  796                                  well done shakira      0\n",
       "797  797  I love this song because we sing it at Camp al...      0\n",
       "798  798                         Shakira is the best dancer      0\n",
       "\n",
       "[799 rows x 3 columns]"
      ]
     },
     "execution_count": 32,
     "metadata": {},
     "output_type": "execute_result"
    }
   ],
   "source": [
    "test1"
   ]
  },
  {
   "cell_type": "code",
   "execution_count": 33,
   "metadata": {
    "colab": {
     "base_uri": "https://localhost:8080/"
    },
    "id": "DFZlsJtKnO9Q",
    "outputId": "40d76f57-e52f-46bd-f4d6-42d10e525111"
   },
   "outputs": [
    {
     "name": "stderr",
     "output_type": "stream",
     "text": [
      "C:\\Users\\Acer\\anaconda3\\lib\\site-packages\\pandas\\core\\frame.py:4308: SettingWithCopyWarning: \n",
      "A value is trying to be set on a copy of a slice from a DataFrame\n",
      "\n",
      "See the caveats in the documentation: https://pandas.pydata.org/pandas-docs/stable/user_guide/indexing.html#returning-a-view-versus-a-copy\n",
      "  return super().drop(\n"
     ]
    }
   ],
   "source": [
    "test1.drop('CONTENT', axis = 1, inplace = True)"
   ]
  },
  {
   "cell_type": "code",
   "execution_count": 34,
   "metadata": {
    "id": "fVvzl3XInczc"
   },
   "outputs": [],
   "source": [
    "test1.set_index('ID', inplace = True)"
   ]
  },
  {
   "cell_type": "code",
   "execution_count": 35,
   "metadata": {
    "id": "MECHS5S5nvSK"
   },
   "outputs": [],
   "source": [
    "# test1.to_csv('output.csv')"
   ]
  },
  {
   "cell_type": "code",
   "execution_count": 37,
   "metadata": {
    "id": "MeNspdLDoZ29"
   },
   "outputs": [],
   "source": [
    "tp = test1"
   ]
  },
  {
   "cell_type": "code",
   "execution_count": 38,
   "metadata": {
    "scrolled": true
   },
   "outputs": [
    {
     "data": {
      "text/html": [
       "<div>\n",
       "<style scoped>\n",
       "    .dataframe tbody tr th:only-of-type {\n",
       "        vertical-align: middle;\n",
       "    }\n",
       "\n",
       "    .dataframe tbody tr th {\n",
       "        vertical-align: top;\n",
       "    }\n",
       "\n",
       "    .dataframe thead th {\n",
       "        text-align: right;\n",
       "    }\n",
       "</style>\n",
       "<table border=\"1\" class=\"dataframe\">\n",
       "  <thead>\n",
       "    <tr style=\"text-align: right;\">\n",
       "      <th></th>\n",
       "      <th>CLASS</th>\n",
       "    </tr>\n",
       "    <tr>\n",
       "      <th>ID</th>\n",
       "      <th></th>\n",
       "    </tr>\n",
       "  </thead>\n",
       "  <tbody>\n",
       "    <tr>\n",
       "      <th>0</th>\n",
       "      <td>1</td>\n",
       "    </tr>\n",
       "    <tr>\n",
       "      <th>1</th>\n",
       "      <td>1</td>\n",
       "    </tr>\n",
       "    <tr>\n",
       "      <th>2</th>\n",
       "      <td>1</td>\n",
       "    </tr>\n",
       "    <tr>\n",
       "      <th>3</th>\n",
       "      <td>0</td>\n",
       "    </tr>\n",
       "    <tr>\n",
       "      <th>4</th>\n",
       "      <td>1</td>\n",
       "    </tr>\n",
       "    <tr>\n",
       "      <th>...</th>\n",
       "      <td>...</td>\n",
       "    </tr>\n",
       "    <tr>\n",
       "      <th>794</th>\n",
       "      <td>1</td>\n",
       "    </tr>\n",
       "    <tr>\n",
       "      <th>795</th>\n",
       "      <td>0</td>\n",
       "    </tr>\n",
       "    <tr>\n",
       "      <th>796</th>\n",
       "      <td>0</td>\n",
       "    </tr>\n",
       "    <tr>\n",
       "      <th>797</th>\n",
       "      <td>0</td>\n",
       "    </tr>\n",
       "    <tr>\n",
       "      <th>798</th>\n",
       "      <td>0</td>\n",
       "    </tr>\n",
       "  </tbody>\n",
       "</table>\n",
       "<p>799 rows × 1 columns</p>\n",
       "</div>"
      ],
      "text/plain": [
       "     CLASS\n",
       "ID        \n",
       "0        1\n",
       "1        1\n",
       "2        1\n",
       "3        0\n",
       "4        1\n",
       "..     ...\n",
       "794      1\n",
       "795      0\n",
       "796      0\n",
       "797      0\n",
       "798      0\n",
       "\n",
       "[799 rows x 1 columns]"
      ]
     },
     "execution_count": 38,
     "metadata": {},
     "output_type": "execute_result"
    }
   ],
   "source": [
    "tp"
   ]
  },
  {
   "cell_type": "code",
   "execution_count": 45,
   "metadata": {},
   "outputs": [],
   "source": [
    "sentiments =[]\n",
    "for i in tp[\"CLASS\"]:\n",
    "    if i==1:\n",
    "        sentiments.append('Positive')\n",
    "    else:\n",
    "        sentiments.append('Negative')"
   ]
  },
  {
   "cell_type": "code",
   "execution_count": 46,
   "metadata": {},
   "outputs": [
    {
     "name": "stderr",
     "output_type": "stream",
     "text": [
      "<ipython-input-46-c684a85bc4e8>:1: SettingWithCopyWarning: \n",
      "A value is trying to be set on a copy of a slice from a DataFrame.\n",
      "Try using .loc[row_indexer,col_indexer] = value instead\n",
      "\n",
      "See the caveats in the documentation: https://pandas.pydata.org/pandas-docs/stable/user_guide/indexing.html#returning-a-view-versus-a-copy\n",
      "  tp['SENTIMENT']=sentiments\n"
     ]
    }
   ],
   "source": [
    "tp['SENTIMENT']=sentiments"
   ]
  },
  {
   "cell_type": "code",
   "execution_count": 49,
   "metadata": {},
   "outputs": [
    {
     "name": "stderr",
     "output_type": "stream",
     "text": [
      "C:\\Users\\Acer\\anaconda3\\lib\\site-packages\\pandas\\core\\frame.py:4308: SettingWithCopyWarning: \n",
      "A value is trying to be set on a copy of a slice from a DataFrame\n",
      "\n",
      "See the caveats in the documentation: https://pandas.pydata.org/pandas-docs/stable/user_guide/indexing.html#returning-a-view-versus-a-copy\n",
      "  return super().drop(\n"
     ]
    }
   ],
   "source": [
    "tp.drop('CLASS', axis=1,inplace=True)"
   ]
  },
  {
   "cell_type": "code",
   "execution_count": 50,
   "metadata": {},
   "outputs": [],
   "source": [
    "tp.to_csv('final_output.csv')"
   ]
  },
  {
   "cell_type": "code",
   "execution_count": null,
   "metadata": {},
   "outputs": [],
   "source": []
  }
 ],
 "metadata": {
  "colab": {
   "name": "ZS_SourceCode.ipynb",
   "provenance": []
  },
  "kernelspec": {
   "display_name": "Python 3",
   "language": "python",
   "name": "python3"
  },
  "language_info": {
   "codemirror_mode": {
    "name": "ipython",
    "version": 3
   },
   "file_extension": ".py",
   "mimetype": "text/x-python",
   "name": "python",
   "nbconvert_exporter": "python",
   "pygments_lexer": "ipython3",
   "version": "3.8.8"
  }
 },
 "nbformat": 4,
 "nbformat_minor": 1
}
